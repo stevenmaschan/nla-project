{
 "cells": [
  {
   "cell_type": "code",
   "execution_count": null,
   "metadata": {
    "colab": {
     "base_uri": "https://localhost:8080/"
    },
    "collapsed": true,
    "id": "OTjjrK_MiNxM",
    "outputId": "8ccf8745-2e2d-4fc1-9c18-1189e288f1a8"
   },
   "outputs": [],
   "source": [
    "!pip install transformers\n",
    "!pip install tensorly\n",
    "import torch\n",
    "import torch.nn as nn\n",
    "from transformers import GPT2LMHeadModel, GPT2Tokenizer\n",
    "from transformers import MarianMTModel, MarianTokenizer\n",
    "from tensorly.decomposition import parafac\n",
    "from tensorly.decomposition import CP\n",
    "from tensorly.cp_tensor import cp_to_tensor\n",
    "import torchvision.transforms as transforms\n",
    "import torchvision\n",
    "import tensorly as tl\n",
    "tl.set_backend('pytorch')\n",
    "from torchvision.datasets import CIFAR10\n",
    "import matplotlib.pyplot as plt\n",
    "import numpy as np\n",
    "from torch.utils.data import DataLoader\n",
    "from transformers import ViTFeatureExtractor, ViTForImageClassification\n",
    "from tqdm import tqdm\n",
    "import time\n",
    "import seaborn as sns"
   ]
  },
  {
   "cell_type": "code",
   "execution_count": 4,
   "metadata": {
    "id": "Ze-xVILxx6Vk"
   },
   "outputs": [],
   "source": [
    "device = torch.device(\"cuda\" if torch.cuda.is_available() else \"cpu\")"
   ]
  },
  {
   "cell_type": "code",
   "execution_count": 5,
   "metadata": {
    "id": "3nMEVhJciaFM"
   },
   "outputs": [],
   "source": [
    "class CPCompressedLinear(nn.Module):\n",
    "    def __init__(self, original_weight, rank=2, bias=None):\n",
    "        super(CPCompressedLinear, self).__init__()\n",
    "        self.input_dim, self.output_dim = original_weight.shape\n",
    "\n",
    "        self.cp_cores = parafac(original_weight, rank=rank)\n",
    "\n",
    "        self.bias = nn.Parameter(bias) if bias is not None else None\n",
    "\n",
    "    def reconstruct_weights(self):\n",
    "        return cp_to_tensor(self.cp_cores)\n",
    "\n",
    "    def forward(self, x):\n",
    "        weights = self.reconstruct_weights()\n",
    "        output = x @ weights.T\n",
    "        if self.bias is not None:\n",
    "            output += self.bias\n",
    "        return output"
   ]
  },
  {
   "cell_type": "code",
   "execution_count": 6,
   "metadata": {
    "id": "rW2FYj9ZrRcW"
   },
   "outputs": [],
   "source": [
    "def cp_compress(model, rank=2):\n",
    "    for name, layer in model.named_modules():\n",
    "        if \"classifier\" in name:\n",
    "            continue\n",
    "\n",
    "        if isinstance(layer, nn.Linear):\n",
    "            bias = layer.bias.data if layer.bias is not None else None\n",
    "\n",
    "            with torch.no_grad():\n",
    "                original_weight = layer.weight.data\n",
    "                new_layer = CPCompressedLinear(\n",
    "                    original_weight=original_weight,\n",
    "                    bias=bias,\n",
    "                    rank=rank\n",
    "                )\n",
    "                parent_module, layer_name = _get_parent_module(model, name)\n",
    "                setattr(parent_module, layer_name, new_layer)\n",
    "    return model\n",
    "\n",
    "def _get_parent_module(model, module_name):\n",
    "    parts = module_name.split(\".\")\n",
    "    parent = model\n",
    "    for part in parts[:-1]:\n",
    "        parent = getattr(parent, part)\n",
    "    return parent, parts[-1]"
   ]
  },
  {
   "cell_type": "code",
   "execution_count": 48,
   "metadata": {
    "colab": {
     "base_uri": "https://localhost:8080/"
    },
    "collapsed": true,
    "id": "0EmXjlWkksss",
    "outputId": "8934f7d5-cd69-48ea-de2e-7d8f03ac1065"
   },
   "outputs": [
    {
     "name": "stdout",
     "output_type": "stream",
     "text": [
      "Files already downloaded and verified\n"
     ]
    }
   ],
   "source": [
    "dataset = CIFAR10(root='./data', train=False, download=True)\n",
    "dataloader = DataLoader(dataset, batch_size=400, shuffle=False, num_workers=2)\n",
    "\n",
    "feature_extractor = ViTFeatureExtractor.from_pretrained('nateraw/vit-base-patch16-224-cifar10')\n",
    "model = ViTForImageClassification.from_pretrained('nateraw/vit-base-patch16-224-cifar10')"
   ]
  },
  {
   "cell_type": "code",
   "execution_count": 9,
   "metadata": {
    "colab": {
     "base_uri": "https://localhost:8080/"
    },
    "id": "LKrIHgWDqXBu",
    "outputId": "d839ee0f-d1ca-4371-cf70-9788c291ce70"
   },
   "outputs": [
    {
     "name": "stdout",
     "output_type": "stream",
     "text": [
      "Files already downloaded and verified\n"
     ]
    }
   ],
   "source": [
    "tensor_dataset = CIFAR10(root='./data', train=False, download=True, transform=transform)"
   ]
  },
  {
   "cell_type": "code",
   "execution_count": 49,
   "metadata": {
    "id": "ZaSd7uBnnOKS"
   },
   "outputs": [],
   "source": [
    "def evaluate(model):\n",
    "  with torch.no_grad():\n",
    "    correct = 0\n",
    "    c = 0\n",
    "    for image, label in dataset:\n",
    "      if c == 100:\n",
    "        break\n",
    "      features = feature_extractor(image, return_tensors='pt')['pixel_values'].to(device)\n",
    "      start_time = time.time()\n",
    "      predictions = model(features).logits.argmax(dim=1)\n",
    "      correct += (predictions == label).sum()\n",
    "      end_time = time.time()\n",
    "      time1 = end_time - start_time\n",
    "      c += 1\n",
    "    return (correct / 100, time1)"
   ]
  },
  {
   "cell_type": "code",
   "execution_count": 50,
   "metadata": {
    "id": "oJi169dA2fv2"
   },
   "outputs": [],
   "source": [
    "evaluations = []\n",
    "ranks = [10, 50, 100, 200, 400, 500, 600, 700]"
   ]
  },
  {
   "cell_type": "code",
   "execution_count": 51,
   "metadata": {
    "colab": {
     "base_uri": "https://localhost:8080/"
    },
    "collapsed": true,
    "id": "BdKoMTZ1ySi6",
    "outputId": "8ff65d54-2cbc-4017-a35f-8325cfb5c8e8"
   },
   "outputs": [
    {
     "name": "stderr",
     "output_type": "stream",
     "text": [
      "100%|██████████| 8/8 [02:23<00:00, 17.90s/it]\n"
     ]
    }
   ],
   "source": [
    "from inspect import EndOfBlock\n",
    "for rank in tqdm([10, 50, 100, 200, 400, 500, 600, 700]):\n",
    "  model = ViTForImageClassification.from_pretrained('nateraw/vit-base-patch16-224-cifar10')\n",
    "  model.to(device)\n",
    "  compressed = cp_compress(model, rank=rank)\n",
    "  compressed.to(device)\n",
    "  evaluations.append(evaluate(compressed))"
   ]
  },
  {
   "cell_type": "code",
   "execution_count": 17,
   "metadata": {
    "id": "DjyFr1bpoOqP"
   },
   "outputs": [],
   "source": [
    "original = ViTForImageClassification.from_pretrained('nateraw/vit-base-patch16-224-cifar10')\n",
    "original.to(device)"
   ]
  },
  {
   "cell_type": "code",
   "execution_count": 52,
   "metadata": {
    "colab": {
     "base_uri": "https://localhost:8080/"
    },
    "id": "pzWGzaFM7GGc",
    "outputId": "14b4eabd-eb6b-4403-f090-abd232a7a87c"
   },
   "outputs": [
    {
     "data": {
      "text/plain": [
       "[(tensor(0.0800, device='cuda:0'), 0.021479368209838867),\n",
       " (tensor(0.1200, device='cuda:0'), 0.013134002685546875),\n",
       " (tensor(0.1200, device='cuda:0'), 0.012869119644165039),\n",
       " (tensor(0.6000, device='cuda:0'), 0.01275944709777832),\n",
       " (tensor(0.9500, device='cuda:0'), 0.013398885726928711),\n",
       " (tensor(0.9700, device='cuda:0'), 0.01322627067565918),\n",
       " (tensor(0.9900, device='cuda:0'), 0.015031099319458008),\n",
       " (tensor(0.9900, device='cuda:0'), 0.023205041885375977)]"
      ]
     },
     "execution_count": 52,
     "metadata": {},
     "output_type": "execute_result"
    }
   ],
   "source": [
    "evaluations"
   ]
  },
  {
   "cell_type": "code",
   "execution_count": 72,
   "metadata": {
    "id": "LdwPBpuA2yw4"
   },
   "outputs": [],
   "source": [
    "accs = []\n",
    "times = []\n",
    "\n",
    "for i in range(len(evaluations)):\n",
    "  accs.append(evaluations[i][0].detach().cpu().numpy().item())\n",
    "  times.append(evaluations[i][1])"
   ]
  },
  {
   "cell_type": "code",
   "execution_count": 74,
   "metadata": {
    "colab": {
     "base_uri": "https://localhost:8080/",
     "height": 451
    },
    "id": "VeH6WsIt3is6",
    "outputId": "d6e98e13-8a27-481f-818f-806d4984396c"
   },
   "outputs": [
    {
     "data": {
      "text/plain": [
       "<Axes: >"
      ]
     },
     "execution_count": 74,
     "metadata": {},
     "output_type": "execute_result"
    },
    {
     "data": {
      "image/png": "[encoded data removed]",
      "text/plain": [
       "<Figure size 640x480 with 1 Axes>"
      ]
     },
     "metadata": {},
     "output_type": "display_data"
    }
   ],
   "source": [
    "sns.set_theme(style='darkgrid')\n",
    "sns.lineplot(x=ranks, y=accs)"
   ]
  },
  {
   "cell_type": "code",
   "execution_count": 75,
   "metadata": {
    "colab": {
     "base_uri": "https://localhost:8080/",
     "height": 451
    },
    "id": "fKoVACwd6aof",
    "outputId": "90adccd5-eb4e-4b49-d2a2-ba8bba2a44f4"
   },
   "outputs": [
    {
     "data": {
      "text/plain": [
       "<Axes: >"
      ]
     },
     "execution_count": 75,
     "metadata": {},
     "output_type": "execute_result"
    },
    {
     "data": {
      "image/png": "[encoded data removed]",
      "text/plain": [
       "<Figure size 640x480 with 1 Axes>"
      ]
     },
     "metadata": {},
     "output_type": "display_data"
    }
   ],
   "source": [
    "sns.lineplot(x=ranks, y=times)"
   ]
  }
 ],
 "metadata": {
  "accelerator": "GPU",
  "colab": {
   "gpuType": "T4",
   "provenance": []
  },
  "kernelspec": {
   "display_name": "Python 3",
   "name": "python3"
  },
  "language_info": {
   "name": "python"
  }
 },
 "nbformat": 4,
 "nbformat_minor": 0
}
